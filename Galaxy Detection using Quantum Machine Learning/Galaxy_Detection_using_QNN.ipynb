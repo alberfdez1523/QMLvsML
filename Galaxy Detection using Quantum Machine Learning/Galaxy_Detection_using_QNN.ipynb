{
  "cells": [
    {
      "cell_type": "markdown",
      "metadata": {
        "id": "Ap7nRE9m6rXh"
      },
      "source": [
        "# Classifying existence of Galaxy using Quantum Machine Learning\n",
        "\n",
        "\n",
        "In the following code notebook, you'll learn how to develop a galaxy detection technique from the telescope image via Quantum Machine Learning.\n",
        "\n",
        "-----\n",
        "\n",
        "The accuracy of the model is $94\\%$ via a quantum machine learning model from NASA image. The image is further divided into a small $16 \\times 16$ image as input data. \n",
        "\n",
        "-----\n",
        "\n",
        "Then the data is encoded and trained using a quantum circuit using the parameterized quantum circuit taken from the paper [Expressibilitty and entangling capability of parameterized quantum circuit for hybrid quantum-classical algorithms](https://arxiv.org/abs/1905.10876).\n",
        "\n",
        "-----\n",
        "\n",
        "With the high expressibility of the circuit, the model is trained and tested with Cross-Entropy as the Loss function and **L-BFGS** algorithm for optimization.\n",
        "\n",
        "\n",
        "This algorithm is realized in **PyTorch** and **Qiskit** machine learning module."
      ]
    },
    {
      "cell_type": "markdown",
      "metadata": {
        "id": "4_4Ylck69OK9"
      },
      "source": [
        "## Pre-Processing of Image\n",
        "\n",
        "\n",
        "Import necessary Libraries for Image pre-processing"
      ]
    },
    {
      "cell_type": "code",
      "execution_count": 56,
      "metadata": {
        "id": "mgpX3QNh9Rwj"
      },
      "outputs": [],
      "source": [
        "from PIL import Image\n",
        "import numpy as np\n",
        "import matplotlib.pyplot as plt\n"
      ]
    },
    {
      "cell_type": "markdown",
      "metadata": {
        "id": "dLWks8DR9e3K"
      },
      "source": [
        "## Pre-Processing Step\n",
        "\n",
        "The below step takes the original image taken by the telescope which is around $3$ MB each. It reshapes the images in the $2463 \\times 2895$ dimensions and normalized, and divided into equal $16 \\times 16$ pieces. The results are named by the nymber it represents and saved in the `result` folder in grayscale."
      ]
    },
    {
      "cell_type": "code",
      "execution_count": 57,
      "metadata": {
        "colab": {
          "base_uri": "https://localhost:8080/",
          "height": 269
        },
        "id": "gsPbHuhm9ZXY",
        "outputId": "4f967554-8c07-4668-bdb8-d3886ef23e58"
      },
      "outputs": [
        {
          "data": {
            "image/png": "[encoded data removed]",
            "text/plain": [
              "<Figure size 640x480 with 1 Axes>"
            ]
          },
          "metadata": {},
          "output_type": "display_data"
        }
      ],
      "source": [
        "cut=128\n",
        "\n",
        "img = Image.open('nasa_image.jpg').convert('L')\n",
        "plt.imshow(img)\n",
        "img = np.asarray(img)\n",
        "img = img.reshape((img.shape[0], img.shape[1]))\n",
        "\n",
        "for i in range(img.shape[0]//cut):\n",
        "    for j in range(img.shape[1]//cut):\n",
        "        cutimg = img[i*cut:(i+1)*cut]\n",
        "        cutimg = cutimg[:,list(range(j*cut,(j+1)*cut))]\n",
        "        plt.imsave('result/{} {}.jpg'.format(i,j), cutimg ,cmap='gray')"
      ]
    },
    {
      "cell_type": "markdown",
      "metadata": {
        "id": "erD6Ukl9A8-h"
      },
      "source": [
        "## Quantum Convolutional Neural Network\n",
        "\n",
        "We will now build our QCNN to detect the Galaxy in the telescope images.\n",
        "\n",
        "\n",
        "\n",
        "-------\n",
        "\n",
        "We will start by importing some helper function files we made to help us train faster with less code.\n",
        "\n",
        "\n",
        "This code will help us read the Images faster:\n",
        "\n",
        "```python\n",
        "import numpy as np\n",
        "\n",
        "#Image processing\n",
        "from PIL import Image\n",
        "\n",
        "#Calling Image from the path, and file name. \n",
        "#i is the number labeling of the data\n",
        "#some of the files does not have name\n",
        "def callImage(i,path,name):\n",
        "    x1 = Image.open(\n",
        "        path+str(name)+str(i)+'.jpg').convert('L');\n",
        "    y1 = np.asarray(x1.getdata(), dtype=np.float64).reshape((x1.size[1], x1.size[0]));\n",
        "    y_dat1 = np.asarray(y1, dtype=np.uint8)     \n",
        "    return y_dat1\n",
        "\n",
        "#Resize image into n x n pixel\n",
        "def imageResize(data,pixel):\n",
        "    image = Image.fromarray(data,'L')\n",
        "    image= image.resize((pixel, pixel))\n",
        "    image=np.asarray(image.getdata(), dtype=np.float64).reshape((image.size[1], image.size[0]))\n",
        "    image=np.asarray(image, dtype=np.uint8)    \n",
        "    return image\n",
        "\n",
        "\n",
        "\n",
        "\n",
        "#Making MxN partition\n",
        "def imagePartition(data,M,N):\n",
        "    tiles = [data[x:x+M,y:y+N] for x in range(0,data.shape[0],M) for y in range(0,data.shape[1],N)]\n",
        "    return tiles\n",
        "\n",
        "def imageBinarize(data):\n",
        "    # specify a threshold 0-255\n",
        "    threshold = 75\n",
        "    # make all pixels < threshold black\n",
        "    bidata = 1.0 * (data > threshold)\n",
        "    return bidata\n",
        "    \n",
        "```\n",
        "\n",
        "Save this file as `ImageRead.py`\n",
        "\n",
        "\n",
        "-----\n",
        "\n",
        "Use this file to make the Quantum Neural network:\n",
        "\n",
        "```python\n",
        "import qiskit\n",
        "from qiskit import transpile, assemble\n",
        "from qiskit import QuantumCircuit, ClassicalRegister, QuantumRegister, execute\n",
        "from qiskit import BasicAer, Aer, execute\n",
        "from qiskit.quantum_info import state_fidelity\n",
        "from qiskit.visualization import *\n",
        "from qiskit.quantum_info.operators import Operator\n",
        "import numpy as np\n",
        "import matplotlib.pyplot as plt\n",
        "from qiskit.circuit.parameter import Parameter\n",
        "import torch\n",
        "from torch.autograd import Function\n",
        "from torchvision import datasets, transforms\n",
        "import torch.optim as optim\n",
        "import torch.nn as nn\n",
        "import torch.nn.functional as F\n",
        "\n",
        "import qiskit\n",
        "from qiskit import transpile, assemble\n",
        "from qiskit.visualization import *\n",
        "\n",
        "\n",
        "nqubits=6\n",
        "\n",
        "def normlaizeData(data):\n",
        "    #Create Array of pixel value\n",
        "    testdata=data\n",
        "    arr_data=testdata.flatten()/max(testdata.flatten());\n",
        "    encoding_data= np.array([np.round(x,6) for x in arr_data]);\n",
        "    sum_const=np.sqrt(sum(encoding_data*encoding_data))\n",
        "    encoding_norm=encoding_data/sum_const\n",
        "    return encoding_norm\n",
        "\n",
        "# Choose on PQC from Hannah  Sim https://arxiv.org/pdf/1905.10876.pdf circuit 15\n",
        "\n",
        "def circuit15(qc,theta):\n",
        "    #circuit 15\n",
        "    #theta is list of the parameters\n",
        "    #theta length is (8)L\n",
        "    #L is the number of repeatation\n",
        "    nqubits=6\n",
        "    qr = QuantumRegister(nqubits)\n",
        "    qc = QuantumCircuit(qr, name='PQC')\n",
        "\n",
        "    count=0\n",
        "\n",
        "\n",
        "    for i in range(nqubits):\n",
        "        qc.ry(theta[count],i)\n",
        "        count=count+1\n",
        "    for i in range(nqubits-1):\n",
        "        qc.cx(i,i+1)\n",
        "    \n",
        "    qc.cx(0,nqubits-1)\n",
        "    for i in range(nqubits):\n",
        "        qc.ry(theta[count],i)\n",
        "        count=count+1    \n",
        "    for i in range(nqubits-1):\n",
        "        qc.cx(i+1,i)\n",
        "    qc.cx(nqubits-1,0)\n",
        "    qc.to_instruction()\n",
        "    return qc\n",
        "# Choose on PQC from Hannah  Sim https://arxiv.org/pdf/1905.10876.pdf circuit 15\n",
        "\n",
        "def encoding(qc,theta,L):\n",
        "    #circuit 15\n",
        "    #theta is list of the parameters\n",
        "    #theta length is (8)L\n",
        "    #L is the number of repeatation\n",
        "    nqubits=6\n",
        "    qr = QuantumRegister(nqubits)\n",
        "    qc = QuantumCircuit(qr, name='Embed')\n",
        "\n",
        "    count=0\n",
        "    for i in range(nqubits):\n",
        "        qc.h(i)\n",
        "        \n",
        "    for l in range(L):\n",
        "        for i in range(nqubits):\n",
        "            qc.ry(theta[count],i)\n",
        "            count=count+1\n",
        "        for i in range(nqubits-1):\n",
        "            qc.cx(i,i+1)\n",
        "        \n",
        "        qc.cx(nqubits-1,0)\n",
        "        for i in range(nqubits):\n",
        "            qc.ry(theta[count],i)\n",
        "            count=count+1    \n",
        "        for i in range(nqubits-1):\n",
        "            qc.cx(i+1,i)\n",
        "        qc.cx(0,nqubits-1)\n",
        "        \n",
        "    qc.to_instruction()\n",
        "    return qc\n",
        "\n",
        "\n",
        "\n",
        "\n",
        "# mapping the data\n",
        "# mapping is taken from https://arxiv.org/pdf/2003.09887.pdf\n",
        "def binary(x):\n",
        "    return ('0'*(6-len('{:b}'.format(x, '#010b') ))+'{:b}'.format(x, '#010b'))\n",
        "def firsttwo(x):\n",
        "    return x[:2]\n",
        "parity = lambda x: firsttwo(binary(x)).count('1') % 2   \n",
        "\n",
        "```\n",
        "\n",
        "Save this as `QNN.py`  and as you can see this file is heavily Qiskit dependent, make sure to install the latest Qiskit packages and all its necessary dependencies.\n",
        "\n",
        "\n"
      ]
    },
    {
      "cell_type": "markdown",
      "metadata": {
        "id": "fCnlSHdnCWkO"
      },
      "source": [
        "-----\n",
        "-----\n",
        "\n",
        "Import Basic python packages and the two python helper scirpts that we made to make our life easier.\n",
        "\n"
      ]
    },
    {
      "cell_type": "code",
      "execution_count": 58,
      "metadata": {
        "id": "PEOinaYO5cIs"
      },
      "outputs": [],
      "source": [
        "import random\n",
        "import numpy as np\n",
        "import matplotlib.pyplot as plt\n",
        "\n",
        "import sys\n",
        "sys.path.append('../PyFiles')   # where the Helper files are saved\n",
        "# Pull in the helper files.\n",
        "from ImageRead import *  # the helper files we created to read Images\n",
        "from ScriptQNN import *        # the helper file that creates the QNN\n"
      ]
    },
    {
      "cell_type": "code",
      "execution_count": 59,
      "metadata": {
        "id": "YMKRo4jl5cI7"
      },
      "outputs": [],
      "source": [
        "target_o = [1 for i in range(25)]+[0 for i in range(25)]"
      ]
    },
    {
      "cell_type": "markdown",
      "metadata": {
        "id": "z7EuQ86NC1Bp"
      },
      "source": [
        "## Loading the dataset\n",
        "\n",
        "Load all the data files from the respective data folder and use the helper function to divide the images into smaller parts to make it easier for the QNN to read and make sense of."
      ]
    },
    {
      "cell_type": "code",
      "execution_count": 60,
      "metadata": {
        "id": "j0hhVp4p5cI_"
      },
      "outputs": [],
      "source": [
        "pathY=r'./dataset/Original/galaxy/'\n",
        "pathN=r'./dataset/Original/No-galaxy/'\n",
        "nameN=''\n",
        "nameY=''\n",
        "\n",
        "inputY=[imageResize(callImage(i+1,pathY,nameY),16) for i in range(25)]\n",
        "inputN=[imageResize(callImage(i+1,pathN,nameN),16) for i in range(25)]\n",
        "input_combine = inputY+inputN"
      ]
    },
    {
      "cell_type": "markdown",
      "metadata": {
        "id": "u17hzIPlDNEr"
      },
      "source": [
        "Randomize and Re-Shuffle the data set to make it better to train."
      ]
    },
    {
      "cell_type": "code",
      "execution_count": 61,
      "metadata": {
        "id": "PWO4DFzv5cJK"
      },
      "outputs": [],
      "source": [
        "np.random.seed(0)\n",
        "idx=np.array([int(i) for i in range(50)]).flatten()\n",
        "\n",
        "np.random.shuffle(idx)\n",
        "\n",
        "dataInput = list(input_combine[i] for i in idx )\n",
        "dataTarget = list( imageBinarize(input_combine[i]) for i in idx )\n",
        "\n",
        "data_target_o=list( target_o[i] for i in idx )"
      ]
    },
    {
      "cell_type": "markdown",
      "metadata": {
        "id": "Cj4u8emLDUKL"
      },
      "source": [
        "## Visualize\n",
        "\n",
        "Display the images from the folder after all the pre-processing and ready to be feeded to the QNN."
      ]
    },
    {
      "cell_type": "code",
      "execution_count": 62,
      "metadata": {
        "id": "cjKji2Xa5cJM",
        "outputId": "ddc756ec-e181-48e6-fd24-b6c0e39d77aa"
      },
      "outputs": [
        {
          "data": {
            "image/png": "[encoded data removed]",
            "text/plain": [
              "<Figure size 2000x600 with 20 Axes>"
            ]
          },
          "metadata": {},
          "output_type": "display_data"
        }
      ],
      "source": [
        "n_samples_show = 10\n",
        "fig, axes = plt.subplots(nrows=2, ncols=n_samples_show, figsize=(20, 6))\n",
        "\n",
        "for i in range(n_samples_show):\n",
        "\n",
        "    axes[0,i].imshow(dataInput[i], cmap='gray')\n",
        "    axes[0,i].set_xticks([])\n",
        "    axes[0,i].set_yticks([])\n",
        "    axes[1,i].imshow(dataInput[i+5], cmap='gray')\n",
        "    axes[1,i].set_xticks([])\n",
        "    axes[1,i].set_yticks([])    \n"
      ]
    },
    {
      "cell_type": "markdown",
      "metadata": {
        "id": "aBcnyyP-DeTG"
      },
      "source": [
        "## The Quantum Neural Network\n",
        "\n",
        "\n",
        "Import necessary files for the training."
      ]
    },
    {
      "cell_type": "code",
      "execution_count": null,
      "metadata": {
        "id": "trdX82lA5cJX"
      },
      "outputs": [
        {
          "name": "stderr",
          "output_type": "stream",
          "text": [
            "C:\\Users\\alber\\AppData\\Local\\Temp\\ipykernel_1264\\2333106851.py:40: DeprecationWarning: The class ``qiskit.primitives.sampler.Sampler`` is deprecated as of qiskit 1.2. It will be removed no earlier than 3 months after the release date. All implementations of the `BaseSamplerV1` interface have been deprecated in favor of their V2 counterparts. The V2 alternative for the `Sampler` class is `StatevectorSampler`.\n",
            "  sampler = Sampler()\n"
          ]
        }
      ],
      "source": [
        "from qiskit.primitives import Sampler\n",
        "from qiskit_machine_learning.neural_networks import SamplerQNN\n",
        "from qiskit_machine_learning.connectors import TorchConnector\n",
        "from torch.nn import CrossEntropyLoss\n",
        "from torch.optim import LBFGS\n",
        "from torch import Tensor\n",
        "\n",
        "\n",
        "# Model for LBFGS\n",
        "# Combining the circuit together with CircuitQNN\n",
        "np.random.seed(3)\n",
        "\n",
        "\n",
        "nqubits=6\n",
        "num_inputs=256\n",
        "qc = QuantumCircuit(nqubits)\n",
        "\n",
        "# Encoding\n",
        "param_x=[];\n",
        "for i in range(num_inputs):\n",
        "    param_x.append(Parameter('x'+str(i)))\n",
        "for i in range(8):\n",
        "    param_x.append(np.pi/2)\n",
        "\n",
        "\n",
        "feature_map = encoding(qc,param_x,22)\n",
        "\n",
        "\n",
        "# Optimzing circuit PQC\n",
        "param_y=[];\n",
        "for i in range(nqubits*2):\n",
        "    param_y.append(Parameter('θ'+str(i)))\n",
        "\n",
        "ansatz=circuit15(qc,param_y)\n",
        "\n",
        "qc.append(feature_map, range(nqubits))\n",
        "qc.append(ansatz, range(nqubits))\n",
        "\n",
        "# Modify the sampler configuration\n",
        "sampler = Sampler()\n",
        "\n",
        "# Create the QNN with modified parameter binding\n",
        "qnn2 = SamplerQNN(\n",
        "    circuit=qc,\n",
        "    input_params=feature_map.parameters,\n",
        "    weight_params=ansatz.parameters,\n",
        "    interpret=parity,\n",
        "    output_shape=2,\n",
        "    sampler=sampler\n",
        ")\n",
        "\n",
        "# Initialize the model\n",
        "initial_weights = 0.1 * (2 * np.random.rand(qnn2.num_weights) - 1)\n"
      ]
    },
    {
      "cell_type": "markdown",
      "metadata": {
        "id": "YxOGd0gn5cJ_"
      },
      "source": [
        "# Learning Rate 0.05\n",
        "\n",
        "Training the model with a Learning Rate of 0.05"
      ]
    },
    {
      "cell_type": "code",
      "execution_count": 64,
      "metadata": {
        "id": "FcnqOwQv5cKK"
      },
      "outputs": [],
      "source": [
        "# define optimizer and loss function\n",
        "\n",
        "model2 = TorchConnector(qnn2, initial_weights)\n",
        "\n",
        "optimizer = LBFGS(model2.parameters(),lr=0.05)\n",
        "f_loss = CrossEntropyLoss()\n",
        "\n",
        "X= [normlaizeData(dataInput[i].flatten()) for i in range(50)]\n",
        "y01= [data_target_o[i] for i in range(50)]"
      ]
    },
    {
      "cell_type": "code",
      "execution_count": 65,
      "metadata": {
        "id": "K0iuvuUi5cKM",
        "outputId": "47817de0-799c-4d9a-b9ed-2bf90f3d4060"
      },
      "outputs": [
        {
          "name": "stdout",
          "output_type": "stream",
          "text": [
            "Accuracy: 0.46\n"
          ]
        }
      ],
      "source": [
        "from torch import Tensor\n",
        "# traning model accuracy\n",
        "y_predict = []\n",
        "for x in X:\n",
        "    output = model2(Tensor(x))\n",
        "    y_predict += [np.argmax(output.detach().numpy())]\n",
        "\n",
        "print('Accuracy:', sum(y_predict == np.array(y01))/len(np.array(y01)))"
      ]
    },
    {
      "cell_type": "markdown",
      "metadata": {
        "id": "Fm1Jj2XKENP_"
      },
      "source": [
        "This accuracy without applying any optimizer and just running on the first instance, as expected that the model is correct half of the time, even if you randomly classify the images you'll get the accuracy near $50\\%$ , so that's what we see here."
      ]
    },
    {
      "cell_type": "code",
      "execution_count": 66,
      "metadata": {
        "id": "wC9qiJET5cKO"
      },
      "outputs": [],
      "source": [
        "# define optimizer and loss function\n",
        "\n",
        "model2 = TorchConnector(qnn2, initial_weights)\n",
        "\n",
        "optimizer = LBFGS(model2.parameters(),lr=0.05)\n",
        "f_loss = CrossEntropyLoss()\n",
        "\n",
        "X= [normlaizeData(dataInput[i].flatten()) for i in range(50)]\n",
        "y01= [data_target_o[i] for i in range(50)]"
      ]
    },
    {
      "cell_type": "code",
      "execution_count": 67,
      "metadata": {
        "id": "LEQQKM__5cKQ",
        "outputId": "49afb082-5339-49e6-a86a-11a16d7c1282"
      },
      "outputs": [
        {
          "name": "stdout",
          "output_type": "stream",
          "text": [
            "33.18708801269531\n",
            "33.108192443847656\n",
            "32.4072380065918\n",
            "32.03237533569336\n",
            "31.895145416259766\n",
            "31.78937530517578\n",
            "31.689733505249023\n",
            "31.59193229675293\n",
            "31.493995666503906\n",
            "31.396451950073242\n",
            "31.304031372070312\n",
            "31.22391700744629\n",
            "31.15971565246582\n",
            "31.109495162963867\n",
            "31.069421768188477\n",
            "31.036239624023438\n",
            "31.007585525512695\n",
            "30.98176383972168\n",
            "30.957427978515625\n",
            "30.93332862854004\n",
            "30.908166885375977\n",
            "30.88027572631836\n",
            "30.84713363647461\n",
            "30.804162979125977\n",
            "30.741378784179688\n",
            "30.637073516845703\n",
            "30.515186309814453\n",
            "30.469327926635742\n",
            "30.444242477416992\n",
            "30.421152114868164\n",
            "30.39798355102539\n",
            "30.37508773803711\n",
            "30.352642059326172\n",
            "30.330595016479492\n",
            "30.308734893798828\n",
            "30.286935806274414\n",
            "30.26512908935547\n",
            "30.24332046508789\n",
            "30.221588134765625\n",
            "30.200000762939453\n"
          ]
        },
        {
          "data": {
            "text/plain": [
              "tensor(30.9082, grad_fn=<AddBackward0>)"
            ]
          },
          "execution_count": 67,
          "metadata": {},
          "output_type": "execute_result"
        }
      ],
      "source": [
        "from torch import Tensor\n",
        "# start training\n",
        "\n",
        "model2.train()    # set model to training mode\n",
        "\n",
        "# define objective function\n",
        "def closure():\n",
        "    optimizer.zero_grad()                                  # initialize gradient\n",
        "    loss = 0.0                                             # initialize loss    \n",
        "    for x, y_target in zip(X, y01):                        # evaluate batch loss\n",
        "        output = model2(Tensor(x)).reshape(1, 2)           # forward pass\n",
        "        loss += f_loss(output, Tensor([y_target]).long())\n",
        "    loss.backward()                                        # backward pass\n",
        "    print(loss.item())                                     # print loss\n",
        "    return loss\n",
        "\n",
        "# run optimizer\n",
        "optimizer.step(closure)\n",
        "optimizer.step(closure)"
      ]
    },
    {
      "cell_type": "code",
      "execution_count": 68,
      "metadata": {
        "id": "VWezyfvi5cKR",
        "outputId": "4aab0de1-7161-47eb-e6f4-69ecfef059e1"
      },
      "outputs": [
        {
          "name": "stdout",
          "output_type": "stream",
          "text": [
            "Accuracy: 0.92\n"
          ]
        }
      ],
      "source": [
        "# traning model accuracy\n",
        "y_predict = []\n",
        "for x in X:\n",
        "    output = model2(Tensor(x))\n",
        "    y_predict += [np.argmax(output.detach().numpy())]\n",
        "\n",
        "print('Accuracy:', sum(y_predict == np.array(y01))/len(np.array(y01)))"
      ]
    },
    {
      "cell_type": "markdown",
      "metadata": {
        "id": "JVM_b1C7EBZm"
      },
      "source": [
        "Here you can see that the accuracy goes to $92\\%$ , which says that our model is good at classifying."
      ]
    },
    {
      "cell_type": "markdown",
      "metadata": {
        "id": "x9ZsRoQh5cKV"
      },
      "source": [
        "# Learning rate 0.06\n",
        "\n",
        "Increasing the Learning Rate with $+0.01$ to $0.06$, we'll see how it affects the accuracy."
      ]
    },
    {
      "cell_type": "code",
      "execution_count": 69,
      "metadata": {
        "id": "pSBdJB1h5cKX",
        "outputId": "52bd2aa4-df87-4f4e-f376-ae513d0e5fe3"
      },
      "outputs": [
        {
          "name": "stdout",
          "output_type": "stream",
          "text": [
            "Accuracy: 0.46\n"
          ]
        }
      ],
      "source": [
        "# define optimizer and loss function\n",
        "from torch import Tensor\n",
        "model2 = TorchConnector(qnn2, initial_weights)\n",
        "\n",
        "optimizer = LBFGS(model2.parameters(),lr=0.06)\n",
        "f_loss = CrossEntropyLoss()\n",
        "\n",
        "X= [normlaizeData(dataInput[i].flatten()) for i in range(50)]\n",
        "y01= [data_target_o[i] for i in range(50)]\n",
        "\n",
        "y_predict = []\n",
        "for x in X:\n",
        "    output = model2(Tensor(x))\n",
        "    y_predict += [np.argmax(output.detach().numpy())]\n",
        "\n",
        "print('Accuracy:', sum(y_predict == np.array(y01))/len(np.array(y01)))"
      ]
    },
    {
      "cell_type": "code",
      "execution_count": 70,
      "metadata": {
        "id": "8CbTEQys5cKZ",
        "outputId": "af452188-8426-4ba7-e912-35cb101c0aaf"
      },
      "outputs": [
        {
          "name": "stdout",
          "output_type": "stream",
          "text": [
            "33.18708801269531\n",
            "33.092506408691406\n",
            "32.27847671508789\n",
            "31.932584762573242\n",
            "31.801755905151367\n",
            "31.696422576904297\n",
            "31.596323013305664\n",
            "31.49781036376953\n",
            "31.399715423583984\n",
            "31.304540634155273\n",
            "31.219013214111328\n",
            "31.14921760559082\n",
            "31.095157623291016\n",
            "31.052919387817383\n",
            "31.01851463317871\n",
            "30.989017486572266\n",
            "30.96230697631836\n",
            "30.936681747436523\n",
            "30.910457611083984\n",
            "30.88165283203125\n",
            "30.847291946411133\n",
            "30.801864624023438\n",
            "30.7325382232666\n",
            "30.610553741455078\n",
            "30.497982025146484\n",
            "30.462387084960938\n",
            "30.439420700073242\n",
            "30.41527557373047\n",
            "30.38955307006836\n",
            "30.363304138183594\n",
            "30.336950302124023\n",
            "30.31045150756836\n",
            "30.28369903564453\n",
            "30.256694793701172\n",
            "30.22960662841797\n",
            "30.202392578125\n",
            "30.172588348388672\n",
            "30.144634246826172\n",
            "30.120256423950195\n",
            "30.096738815307617\n"
          ]
        },
        {
          "data": {
            "text/plain": [
              "tensor(30.8473, grad_fn=<AddBackward0>)"
            ]
          },
          "execution_count": 70,
          "metadata": {},
          "output_type": "execute_result"
        }
      ],
      "source": [
        "from torch import Tensor\n",
        "# start training\n",
        "\n",
        "model2.train()    # set model to training mode\n",
        "\n",
        "# define objective function\n",
        "def closure():\n",
        "    optimizer.zero_grad()                                  # initialize gradient\n",
        "    loss = 0.0                                             # initialize loss    \n",
        "    for x, y_target in zip(X, y01):                        # evaluate batch loss\n",
        "        output = model2(Tensor(x)).reshape(1, 2)           # forward pass\n",
        "        loss += f_loss(output, Tensor([y_target]).long())\n",
        "    loss.backward()                                        # backward pass\n",
        "    print(loss.item())                                     # print loss\n",
        "    return loss\n",
        "\n",
        "# run optimizer\n",
        "optimizer.step(closure)\n",
        "optimizer.step(closure)"
      ]
    },
    {
      "cell_type": "code",
      "execution_count": 71,
      "metadata": {
        "id": "I33pz30p5cKb",
        "outputId": "4c015516-4b15-4a64-ae4a-c0312e6c47ee"
      },
      "outputs": [
        {
          "name": "stdout",
          "output_type": "stream",
          "text": [
            "Accuracy: 0.92\n"
          ]
        }
      ],
      "source": [
        "# traning model accuracy\n",
        "y_predict = []\n",
        "for x in X:\n",
        "    output = model2(Tensor(x))\n",
        "    y_predict += [np.argmax(output.detach().numpy())]\n",
        "\n",
        "print('Accuracy:', sum(y_predict == np.array(y01))/len(np.array(y01)))"
      ]
    },
    {
      "cell_type": "markdown",
      "metadata": {
        "id": "qQUb7q5BEyqZ"
      },
      "source": [
        "We see the accuracy drops to $92\\%$ from $94\\%$."
      ]
    },
    {
      "cell_type": "markdown",
      "metadata": {
        "id": "1co0XUZm5cKd"
      },
      "source": [
        "# Learning Rate 0.07\n",
        "\n",
        "Increasing the accuracy even further by $0.01$"
      ]
    },
    {
      "cell_type": "code",
      "execution_count": 72,
      "metadata": {
        "id": "HkMzQ3VM5cKe",
        "outputId": "a96725e8-4003-4381-fd06-93abbbd5af38"
      },
      "outputs": [
        {
          "name": "stdout",
          "output_type": "stream",
          "text": [
            "Accuracy: 0.46\n"
          ]
        }
      ],
      "source": [
        "# define optimizer and loss function\n",
        "from torch import Tensor\n",
        "model2 = TorchConnector(qnn2, initial_weights)\n",
        "\n",
        "optimizer = LBFGS(model2.parameters(),lr=0.07)\n",
        "f_loss = CrossEntropyLoss()\n",
        "\n",
        "X= [normlaizeData(dataInput[i].flatten()) for i in range(50)]\n",
        "y01= [data_target_o[i] for i in range(50)]\n",
        "\n",
        "y_predict = []\n",
        "for x in X:\n",
        "    output = model2(Tensor(x))\n",
        "    y_predict += [np.argmax(output.detach().numpy())]\n",
        "\n",
        "print('Accuracy:', sum(y_predict == np.array(y01))/len(np.array(y01)))"
      ]
    },
    {
      "cell_type": "code",
      "execution_count": 73,
      "metadata": {
        "id": "43MQltGY5cKg",
        "outputId": "2e02fbdc-8f77-4281-8a9d-f15f1ebdc4bc"
      },
      "outputs": [
        {
          "name": "stdout",
          "output_type": "stream",
          "text": [
            "33.18708801269531\n",
            "33.07685089111328\n",
            "32.15932846069336\n",
            "31.843116760253906\n",
            "31.71990394592285\n",
            "31.616920471191406\n",
            "31.518083572387695\n",
            "31.42047691345215\n",
            "31.324111938476562\n",
            "31.233501434326172\n",
            "31.156253814697266\n",
            "31.095962524414062\n",
            "31.04983901977539\n",
            "31.013206481933594\n",
            "30.98231315612793\n",
            "30.954456329345703\n",
            "30.927480697631836\n",
            "30.899188995361328\n",
            "30.866764068603516\n",
            "30.82535743713379\n",
            "30.764251708984375\n",
            "30.654775619506836\n",
            "30.505294799804688\n",
            "30.467437744140625\n",
            "30.445926666259766\n",
            "30.420310974121094\n",
            "30.390424728393555\n",
            "30.358802795410156\n",
            "30.326568603515625\n",
            "30.2938232421875\n",
            "30.260597229003906\n",
            "30.227100372314453\n",
            "30.19232749938965\n",
            "30.15595245361328\n",
            "30.12395477294922\n",
            "30.094696044921875\n",
            "30.066675186157227\n",
            "30.039791107177734\n",
            "30.01435661315918\n",
            "29.9906005859375\n"
          ]
        },
        {
          "data": {
            "text/plain": [
              "tensor(30.7643, grad_fn=<AddBackward0>)"
            ]
          },
          "execution_count": 73,
          "metadata": {},
          "output_type": "execute_result"
        }
      ],
      "source": [
        "from torch import Tensor\n",
        "# start training\n",
        "\n",
        "model2.train()    # set model to training mode\n",
        "\n",
        "# define objective function\n",
        "def closure():\n",
        "    optimizer.zero_grad()                                  # initialize gradient\n",
        "    loss = 0.0                                             # initialize loss    \n",
        "    for x, y_target in zip(X, y01):                        # evaluate batch loss\n",
        "        output = model2(Tensor(x)).reshape(1, 2)           # forward pass\n",
        "        loss += f_loss(output, Tensor([y_target]).long())\n",
        "    loss.backward()                                        # backward pass\n",
        "    print(loss.item())                                     # print loss\n",
        "    return loss\n",
        "\n",
        "# run optimizer\n",
        "optimizer.step(closure)\n",
        "optimizer.step(closure)"
      ]
    },
    {
      "cell_type": "code",
      "execution_count": 74,
      "metadata": {
        "id": "ge1Gn9LZ5cKi",
        "outputId": "130750ae-3ca5-48b4-b17a-151f361b31bc"
      },
      "outputs": [
        {
          "name": "stdout",
          "output_type": "stream",
          "text": [
            "Accuracy: 0.92\n"
          ]
        }
      ],
      "source": [
        "# traning model accuracy\n",
        "y_predict = []\n",
        "for x in X:\n",
        "    output = model2(Tensor(x))\n",
        "    y_predict += [np.argmax(output.detach().numpy())]\n",
        "\n",
        "print('Accuracy:', sum(y_predict == np.array(y01))/len(np.array(y01)))"
      ]
    },
    {
      "cell_type": "markdown",
      "metadata": {
        "id": "gqx8ign8FBr8"
      },
      "source": [
        "The acciracy remained constant at $92\\%$"
      ]
    },
    {
      "cell_type": "markdown",
      "metadata": {
        "id": "5S5UyxQK5cKq"
      },
      "source": [
        "# Test Model\n",
        "\n",
        "Testing the model with unseen data."
      ]
    },
    {
      "cell_type": "code",
      "execution_count": 75,
      "metadata": {
        "id": "fVScoBD75cKs",
        "outputId": "2f0f203e-74e0-4fa1-d36c-c54de5b65489"
      },
      "outputs": [
        {
          "name": "stdout",
          "output_type": "stream",
          "text": [
            "Accuracy25data: 0.84\n",
            "Accuracy50data: 0.78\n"
          ]
        }
      ],
      "source": [
        "target_o = [1 for i in range(25)]+[0 for i in range(25)]\n",
        "\n",
        "pathY=r'./dataset/Original/galaxy1/'\n",
        "pathN=r'./dataset/Original/no-galaxy1/'\n",
        "nameN=''\n",
        "nameY=''\n",
        "inputY=[imageResize(callImage(i+1,pathY,nameY),16) for i in range(25)]\n",
        "inputN=[imageResize(callImage(i+1,pathN,nameN),16) for i in range(25)]\n",
        "input_combine = inputY+inputN\n",
        "\n",
        "np.random.seed(0)\n",
        "idx=np.array([int(i) for i in range(50)]).flatten()\n",
        "\n",
        "np.random.shuffle(idx)\n",
        "\n",
        "dataInput = list(input_combine[i] for i in idx )\n",
        "dataTarget = list( imageBinarize(input_combine[i]) for i in idx )\n",
        "\n",
        "data_target_o=list( target_o[i] for i in idx )\n",
        "\n",
        "Xtest= [normlaizeData(dataInput[i].flatten()) for i in range(25)]\n",
        "y01test= [data_target_o[i] for i in range(25)]\n",
        "\n",
        "Xtest1= [normlaizeData(dataInput[i].flatten()) for i in range(50)]\n",
        "y01test1= [data_target_o[i] for i in range(50)]\n",
        "\n",
        "y_predict = []\n",
        "for x in Xtest:\n",
        "    output = model2(Tensor(x))\n",
        "    y_predict += [np.argmax(output.detach().numpy())]\n",
        "\n",
        "print('Accuracy25data:', sum(y_predict == np.array(y01test))/len(np.array(y01test)))\n",
        "\n",
        "y_predict1 = []\n",
        "for x in Xtest1:\n",
        "    output = model2(Tensor(x))\n",
        "    y_predict1 += [np.argmax(output.detach().numpy())]\n",
        "\n",
        "print('Accuracy50data:', sum(y_predict1 == np.array(y01test1))/len(np.array(y01test1)))"
      ]
    },
    {
      "cell_type": "markdown",
      "metadata": {
        "id": "O6HXVKzwFU9t"
      },
      "source": [
        "The accuracy on different unseen data ranges from $80-84\\%$.\n",
        "\n",
        "\n",
        "We can say the model performs good on the unseen data too.\n",
        " \n",
        "\n",
        "We need new techniques to train the Hyperparameters to better fine tune them and reduce the computational time."
      ]
    }
  ],
  "metadata": {
    "colab": {
      "provenance": []
    },
    "kernelspec": {
      "display_name": "Python 3",
      "language": "python",
      "name": "python3"
    },
    "language_info": {
      "codemirror_mode": {
        "name": "ipython",
        "version": 3
      },
      "file_extension": ".py",
      "mimetype": "text/x-python",
      "name": "python",
      "nbconvert_exporter": "python",
      "pygments_lexer": "ipython3",
      "version": "3.12.2"
    }
  },
  "nbformat": 4,
  "nbformat_minor": 0
}
